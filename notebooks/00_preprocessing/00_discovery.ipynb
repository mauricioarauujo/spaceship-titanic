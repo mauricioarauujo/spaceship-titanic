{
 "cells": [
  {
   "cell_type": "code",
   "execution_count": 22,
   "id": "f41ba0d2-64cb-4b18-a14f-79f9c7565c9e",
   "metadata": {},
   "outputs": [],
   "source": [
    "import pandas as pd\n",
    "import numpy as np\n",
    "from matplotlib import pyplot as plt\n",
    "import seaborn as sns"
   ]
  },
  {
   "cell_type": "code",
   "execution_count": 23,
   "id": "506e36de-c337-4aa6-afe5-522bc38c5ccc",
   "metadata": {},
   "outputs": [
    {
     "data": {
      "text/plain": [
       "['train',\n",
       " 'test',\n",
       " 'sample_submission',\n",
       " 'modeling_data',\n",
       " 'inference_data',\n",
       " 'regressor',\n",
       " 'parameters',\n",
       " 'params:model_options',\n",
       " 'params:model_options.test_size',\n",
       " 'params:model_options.random_state',\n",
       " 'params:model_options.features',\n",
       " 'params:col_maps',\n",
       " 'params:col_maps.TARGET_COL',\n",
       " 'params:col_maps.ID_COL']"
      ]
     },
     "execution_count": 23,
     "metadata": {},
     "output_type": "execute_result"
    }
   ],
   "source": [
    "catalog.list()"
   ]
  },
  {
   "cell_type": "code",
   "execution_count": 24,
   "id": "564c6127-3d1f-4154-a57a-990b1eab1d6f",
   "metadata": {},
   "outputs": [
    {
     "data": {
      "text/html": [
       "<pre style=\"white-space:pre;overflow-x:auto;line-height:normal;font-family:Menlo,'DejaVu Sans Mono',consolas,'Courier New',monospace\"><span style=\"color: #7fbfbf; text-decoration-color: #7fbfbf\">[07/25/23 21:25:40] </span><span style=\"color: #000080; text-decoration-color: #000080\">INFO    </span> Loading data from <span style=\"color: #008000; text-decoration-color: #008000\">'train'</span> <span style=\"font-weight: bold\">(</span>CSVDataSet<span style=\"font-weight: bold\">)</span><span style=\"color: #808000; text-decoration-color: #808000\">...</span>                          <a href=\"file:///Users/mauricioaraujo/anaconda3/envs/spaceship/lib/python3.9/site-packages/kedro/io/data_catalog.py\" target=\"_blank\"><span style=\"color: #7f7f7f; text-decoration-color: #7f7f7f\">data_catalog.py</span></a><span style=\"color: #7f7f7f; text-decoration-color: #7f7f7f\">:</span><a href=\"file:///Users/mauricioaraujo/anaconda3/envs/spaceship/lib/python3.9/site-packages/kedro/io/data_catalog.py#345\" target=\"_blank\"><span style=\"color: #7f7f7f; text-decoration-color: #7f7f7f\">345</span></a>\n",
       "</pre>\n"
      ],
      "text/plain": [
       "\u001b[2;36m[07/25/23 21:25:40]\u001b[0m\u001b[2;36m \u001b[0m\u001b[34mINFO    \u001b[0m Loading data from \u001b[32m'train'\u001b[0m \u001b[1m(\u001b[0mCSVDataSet\u001b[1m)\u001b[0m\u001b[33m...\u001b[0m                          \u001b]8;id=638114;file:///Users/mauricioaraujo/anaconda3/envs/spaceship/lib/python3.9/site-packages/kedro/io/data_catalog.py\u001b\\\u001b[2mdata_catalog.py\u001b[0m\u001b]8;;\u001b\\\u001b[2m:\u001b[0m\u001b]8;id=953681;file:///Users/mauricioaraujo/anaconda3/envs/spaceship/lib/python3.9/site-packages/kedro/io/data_catalog.py#345\u001b\\\u001b[2m345\u001b[0m\u001b]8;;\u001b\\\n"
      ]
     },
     "metadata": {},
     "output_type": "display_data"
    }
   ],
   "source": [
    "train = catalog.load('train')"
   ]
  },
  {
   "cell_type": "code",
   "execution_count": 25,
   "id": "40f12d0a-67f2-453e-ae30-819b76037628",
   "metadata": {},
   "outputs": [
    {
     "data": {
      "text/html": [
       "<pre style=\"white-space:pre;overflow-x:auto;line-height:normal;font-family:Menlo,'DejaVu Sans Mono',consolas,'Courier New',monospace\"><span style=\"color: #7fbfbf; text-decoration-color: #7fbfbf\">[07/25/23 21:25:48] </span><span style=\"color: #000080; text-decoration-color: #000080\">INFO    </span> Loading data from <span style=\"color: #008000; text-decoration-color: #008000\">'parameters'</span> <span style=\"font-weight: bold\">(</span>MemoryDataset<span style=\"font-weight: bold\">)</span><span style=\"color: #808000; text-decoration-color: #808000\">...</span>                  <a href=\"file:///Users/mauricioaraujo/anaconda3/envs/spaceship/lib/python3.9/site-packages/kedro/io/data_catalog.py\" target=\"_blank\"><span style=\"color: #7f7f7f; text-decoration-color: #7f7f7f\">data_catalog.py</span></a><span style=\"color: #7f7f7f; text-decoration-color: #7f7f7f\">:</span><a href=\"file:///Users/mauricioaraujo/anaconda3/envs/spaceship/lib/python3.9/site-packages/kedro/io/data_catalog.py#345\" target=\"_blank\"><span style=\"color: #7f7f7f; text-decoration-color: #7f7f7f\">345</span></a>\n",
       "</pre>\n"
      ],
      "text/plain": [
       "\u001b[2;36m[07/25/23 21:25:48]\u001b[0m\u001b[2;36m \u001b[0m\u001b[34mINFO    \u001b[0m Loading data from \u001b[32m'parameters'\u001b[0m \u001b[1m(\u001b[0mMemoryDataset\u001b[1m)\u001b[0m\u001b[33m...\u001b[0m                  \u001b]8;id=222082;file:///Users/mauricioaraujo/anaconda3/envs/spaceship/lib/python3.9/site-packages/kedro/io/data_catalog.py\u001b\\\u001b[2mdata_catalog.py\u001b[0m\u001b]8;;\u001b\\\u001b[2m:\u001b[0m\u001b]8;id=672451;file:///Users/mauricioaraujo/anaconda3/envs/spaceship/lib/python3.9/site-packages/kedro/io/data_catalog.py#345\u001b\\\u001b[2m345\u001b[0m\u001b]8;;\u001b\\\n"
      ]
     },
     "metadata": {},
     "output_type": "display_data"
    }
   ],
   "source": [
    "parameters = catalog.load('parameters')"
   ]
  },
  {
   "cell_type": "code",
   "execution_count": 26,
   "id": "cb23427b-64ba-4e53-9c36-b8df1cc61a61",
   "metadata": {},
   "outputs": [],
   "source": [
    "ID_COL = parameters['col_maps']['ID_COL']\n",
    "TARGET_COL = parameters['col_maps']['TARGET_COL']\n",
    "\n",
    "categorical_cols = (\n",
    "    train\n",
    "    .select_dtypes(include=['object', 'bool'])\n",
    "    .columns\n",
    "    .difference([ID_COL, TARGET_COL])\n",
    "    .tolist()\n",
    ")\n",
    "\n",
    "numerical_cols = (\n",
    "    train\n",
    "    .select_dtypes(include=['int64', 'float64'])\n",
    "    .columns\n",
    "    .difference([ID_COL, TARGET_COL])\n",
    "    .tolist()\n",
    ")"
   ]
  },
  {
   "cell_type": "markdown",
   "id": "32c22b36-afbc-454e-a347-65fc2eaa86a7",
   "metadata": {},
   "source": [
    "# Numeric Cols"
   ]
  },
  {
   "cell_type": "code",
   "execution_count": 10,
   "id": "11679406-9010-4df2-8a5f-e4ad0bdff1e8",
   "metadata": {},
   "outputs": [
    {
     "data": {
      "text/html": [
       "<div>\n",
       "<style scoped>\n",
       "    .dataframe tbody tr th:only-of-type {\n",
       "        vertical-align: middle;\n",
       "    }\n",
       "\n",
       "    .dataframe tbody tr th {\n",
       "        vertical-align: top;\n",
       "    }\n",
       "\n",
       "    .dataframe thead th {\n",
       "        text-align: right;\n",
       "    }\n",
       "</style>\n",
       "<table border=\"1\" class=\"dataframe\">\n",
       "  <thead>\n",
       "    <tr style=\"text-align: right;\">\n",
       "      <th></th>\n",
       "      <th>Age</th>\n",
       "      <th>FoodCourt</th>\n",
       "      <th>RoomService</th>\n",
       "      <th>ShoppingMall</th>\n",
       "      <th>Spa</th>\n",
       "      <th>VRDeck</th>\n",
       "    </tr>\n",
       "  </thead>\n",
       "  <tbody>\n",
       "    <tr>\n",
       "      <th>0</th>\n",
       "      <td>39.0</td>\n",
       "      <td>0.0</td>\n",
       "      <td>0.0</td>\n",
       "      <td>0.0</td>\n",
       "      <td>0.0</td>\n",
       "      <td>0.0</td>\n",
       "    </tr>\n",
       "    <tr>\n",
       "      <th>1</th>\n",
       "      <td>24.0</td>\n",
       "      <td>9.0</td>\n",
       "      <td>109.0</td>\n",
       "      <td>25.0</td>\n",
       "      <td>549.0</td>\n",
       "      <td>44.0</td>\n",
       "    </tr>\n",
       "    <tr>\n",
       "      <th>2</th>\n",
       "      <td>58.0</td>\n",
       "      <td>3576.0</td>\n",
       "      <td>43.0</td>\n",
       "      <td>0.0</td>\n",
       "      <td>6715.0</td>\n",
       "      <td>49.0</td>\n",
       "    </tr>\n",
       "    <tr>\n",
       "      <th>3</th>\n",
       "      <td>33.0</td>\n",
       "      <td>1283.0</td>\n",
       "      <td>0.0</td>\n",
       "      <td>371.0</td>\n",
       "      <td>3329.0</td>\n",
       "      <td>193.0</td>\n",
       "    </tr>\n",
       "    <tr>\n",
       "      <th>4</th>\n",
       "      <td>16.0</td>\n",
       "      <td>70.0</td>\n",
       "      <td>303.0</td>\n",
       "      <td>151.0</td>\n",
       "      <td>565.0</td>\n",
       "      <td>2.0</td>\n",
       "    </tr>\n",
       "    <tr>\n",
       "      <th>...</th>\n",
       "      <td>...</td>\n",
       "      <td>...</td>\n",
       "      <td>...</td>\n",
       "      <td>...</td>\n",
       "      <td>...</td>\n",
       "      <td>...</td>\n",
       "    </tr>\n",
       "    <tr>\n",
       "      <th>8688</th>\n",
       "      <td>41.0</td>\n",
       "      <td>6819.0</td>\n",
       "      <td>0.0</td>\n",
       "      <td>0.0</td>\n",
       "      <td>1643.0</td>\n",
       "      <td>74.0</td>\n",
       "    </tr>\n",
       "    <tr>\n",
       "      <th>8689</th>\n",
       "      <td>18.0</td>\n",
       "      <td>0.0</td>\n",
       "      <td>0.0</td>\n",
       "      <td>0.0</td>\n",
       "      <td>0.0</td>\n",
       "      <td>0.0</td>\n",
       "    </tr>\n",
       "    <tr>\n",
       "      <th>8690</th>\n",
       "      <td>26.0</td>\n",
       "      <td>0.0</td>\n",
       "      <td>0.0</td>\n",
       "      <td>1872.0</td>\n",
       "      <td>1.0</td>\n",
       "      <td>0.0</td>\n",
       "    </tr>\n",
       "    <tr>\n",
       "      <th>8691</th>\n",
       "      <td>32.0</td>\n",
       "      <td>1049.0</td>\n",
       "      <td>0.0</td>\n",
       "      <td>0.0</td>\n",
       "      <td>353.0</td>\n",
       "      <td>3235.0</td>\n",
       "    </tr>\n",
       "    <tr>\n",
       "      <th>8692</th>\n",
       "      <td>44.0</td>\n",
       "      <td>4688.0</td>\n",
       "      <td>126.0</td>\n",
       "      <td>0.0</td>\n",
       "      <td>0.0</td>\n",
       "      <td>12.0</td>\n",
       "    </tr>\n",
       "  </tbody>\n",
       "</table>\n",
       "<p>8693 rows × 6 columns</p>\n",
       "</div>"
      ],
      "text/plain": [
       "       Age  FoodCourt  RoomService  ShoppingMall     Spa  VRDeck\n",
       "0     39.0        0.0          0.0           0.0     0.0     0.0\n",
       "1     24.0        9.0        109.0          25.0   549.0    44.0\n",
       "2     58.0     3576.0         43.0           0.0  6715.0    49.0\n",
       "3     33.0     1283.0          0.0         371.0  3329.0   193.0\n",
       "4     16.0       70.0        303.0         151.0   565.0     2.0\n",
       "...    ...        ...          ...           ...     ...     ...\n",
       "8688  41.0     6819.0          0.0           0.0  1643.0    74.0\n",
       "8689  18.0        0.0          0.0           0.0     0.0     0.0\n",
       "8690  26.0        0.0          0.0        1872.0     1.0     0.0\n",
       "8691  32.0     1049.0          0.0           0.0   353.0  3235.0\n",
       "8692  44.0     4688.0        126.0           0.0     0.0    12.0\n",
       "\n",
       "[8693 rows x 6 columns]"
      ]
     },
     "execution_count": 10,
     "metadata": {},
     "output_type": "execute_result"
    }
   ],
   "source": [
    "train[numerical_cols]"
   ]
  },
  {
   "cell_type": "code",
   "execution_count": 12,
   "id": "819be4b7-080e-425b-8857-db768f00fe03",
   "metadata": {},
   "outputs": [
    {
     "data": {
      "text/html": [
       "<div>\n",
       "<style scoped>\n",
       "    .dataframe tbody tr th:only-of-type {\n",
       "        vertical-align: middle;\n",
       "    }\n",
       "\n",
       "    .dataframe tbody tr th {\n",
       "        vertical-align: top;\n",
       "    }\n",
       "\n",
       "    .dataframe thead th {\n",
       "        text-align: right;\n",
       "    }\n",
       "</style>\n",
       "<table border=\"1\" class=\"dataframe\">\n",
       "  <thead>\n",
       "    <tr style=\"text-align: right;\">\n",
       "      <th></th>\n",
       "      <th>Age</th>\n",
       "      <th>FoodCourt</th>\n",
       "      <th>RoomService</th>\n",
       "      <th>ShoppingMall</th>\n",
       "      <th>Spa</th>\n",
       "      <th>VRDeck</th>\n",
       "    </tr>\n",
       "  </thead>\n",
       "  <tbody>\n",
       "    <tr>\n",
       "      <th>count</th>\n",
       "      <td>8514.000000</td>\n",
       "      <td>8510.000000</td>\n",
       "      <td>8512.000000</td>\n",
       "      <td>8485.000000</td>\n",
       "      <td>8510.000000</td>\n",
       "      <td>8505.000000</td>\n",
       "    </tr>\n",
       "    <tr>\n",
       "      <th>mean</th>\n",
       "      <td>28.827930</td>\n",
       "      <td>458.077203</td>\n",
       "      <td>224.687617</td>\n",
       "      <td>173.729169</td>\n",
       "      <td>311.138778</td>\n",
       "      <td>304.854791</td>\n",
       "    </tr>\n",
       "    <tr>\n",
       "      <th>std</th>\n",
       "      <td>14.489021</td>\n",
       "      <td>1611.489240</td>\n",
       "      <td>666.717663</td>\n",
       "      <td>604.696458</td>\n",
       "      <td>1136.705535</td>\n",
       "      <td>1145.717189</td>\n",
       "    </tr>\n",
       "    <tr>\n",
       "      <th>min</th>\n",
       "      <td>0.000000</td>\n",
       "      <td>0.000000</td>\n",
       "      <td>0.000000</td>\n",
       "      <td>0.000000</td>\n",
       "      <td>0.000000</td>\n",
       "      <td>0.000000</td>\n",
       "    </tr>\n",
       "    <tr>\n",
       "      <th>25%</th>\n",
       "      <td>19.000000</td>\n",
       "      <td>0.000000</td>\n",
       "      <td>0.000000</td>\n",
       "      <td>0.000000</td>\n",
       "      <td>0.000000</td>\n",
       "      <td>0.000000</td>\n",
       "    </tr>\n",
       "    <tr>\n",
       "      <th>50%</th>\n",
       "      <td>27.000000</td>\n",
       "      <td>0.000000</td>\n",
       "      <td>0.000000</td>\n",
       "      <td>0.000000</td>\n",
       "      <td>0.000000</td>\n",
       "      <td>0.000000</td>\n",
       "    </tr>\n",
       "    <tr>\n",
       "      <th>75%</th>\n",
       "      <td>38.000000</td>\n",
       "      <td>76.000000</td>\n",
       "      <td>47.000000</td>\n",
       "      <td>27.000000</td>\n",
       "      <td>59.000000</td>\n",
       "      <td>46.000000</td>\n",
       "    </tr>\n",
       "    <tr>\n",
       "      <th>max</th>\n",
       "      <td>79.000000</td>\n",
       "      <td>29813.000000</td>\n",
       "      <td>14327.000000</td>\n",
       "      <td>23492.000000</td>\n",
       "      <td>22408.000000</td>\n",
       "      <td>24133.000000</td>\n",
       "    </tr>\n",
       "  </tbody>\n",
       "</table>\n",
       "</div>"
      ],
      "text/plain": [
       "               Age     FoodCourt   RoomService  ShoppingMall           Spa  \\\n",
       "count  8514.000000   8510.000000   8512.000000   8485.000000   8510.000000   \n",
       "mean     28.827930    458.077203    224.687617    173.729169    311.138778   \n",
       "std      14.489021   1611.489240    666.717663    604.696458   1136.705535   \n",
       "min       0.000000      0.000000      0.000000      0.000000      0.000000   \n",
       "25%      19.000000      0.000000      0.000000      0.000000      0.000000   \n",
       "50%      27.000000      0.000000      0.000000      0.000000      0.000000   \n",
       "75%      38.000000     76.000000     47.000000     27.000000     59.000000   \n",
       "max      79.000000  29813.000000  14327.000000  23492.000000  22408.000000   \n",
       "\n",
       "             VRDeck  \n",
       "count   8505.000000  \n",
       "mean     304.854791  \n",
       "std     1145.717189  \n",
       "min        0.000000  \n",
       "25%        0.000000  \n",
       "50%        0.000000  \n",
       "75%       46.000000  \n",
       "max    24133.000000  "
      ]
     },
     "execution_count": 12,
     "metadata": {},
     "output_type": "execute_result"
    }
   ],
   "source": [
    "train[numerical_cols].describe()"
   ]
  },
  {
   "cell_type": "code",
   "execution_count": 14,
   "id": "d0c13eae-a1b2-4c1d-8559-82810601d3bc",
   "metadata": {},
   "outputs": [
    {
     "data": {
      "text/plain": [
       "<Axes: >"
      ]
     },
     "execution_count": 14,
     "metadata": {},
     "output_type": "execute_result"
    },
    {
     "data": {
      "image/png": "[encoded data removed]",
      "text/plain": [
       "<Figure size 640x480 with 1 Axes>"
      ]
     },
     "metadata": {},
     "output_type": "display_data"
    }
   ],
   "source": [
    "train[\"Age\"].hist(bins=20)"
   ]
  },
  {
   "cell_type": "markdown",
   "id": "9a0af684-2ddd-40be-b6e1-821a553fdc8e",
   "metadata": {
    "tags": []
   },
   "source": [
    "# Categorical Cols"
   ]
  },
  {
   "cell_type": "code",
   "execution_count": 11,
   "id": "f2fbada3-82ca-4831-91bf-565da3e3c376",
   "metadata": {},
   "outputs": [
    {
     "data": {
      "text/html": [
       "<div>\n",
       "<style scoped>\n",
       "    .dataframe tbody tr th:only-of-type {\n",
       "        vertical-align: middle;\n",
       "    }\n",
       "\n",
       "    .dataframe tbody tr th {\n",
       "        vertical-align: top;\n",
       "    }\n",
       "\n",
       "    .dataframe thead th {\n",
       "        text-align: right;\n",
       "    }\n",
       "</style>\n",
       "<table border=\"1\" class=\"dataframe\">\n",
       "  <thead>\n",
       "    <tr style=\"text-align: right;\">\n",
       "      <th></th>\n",
       "      <th>Cabin</th>\n",
       "      <th>CryoSleep</th>\n",
       "      <th>Destination</th>\n",
       "      <th>HomePlanet</th>\n",
       "      <th>Name</th>\n",
       "      <th>VIP</th>\n",
       "    </tr>\n",
       "  </thead>\n",
       "  <tbody>\n",
       "    <tr>\n",
       "      <th>0</th>\n",
       "      <td>B/0/P</td>\n",
       "      <td>False</td>\n",
       "      <td>TRAPPIST-1e</td>\n",
       "      <td>Europa</td>\n",
       "      <td>Maham Ofracculy</td>\n",
       "      <td>False</td>\n",
       "    </tr>\n",
       "    <tr>\n",
       "      <th>1</th>\n",
       "      <td>F/0/S</td>\n",
       "      <td>False</td>\n",
       "      <td>TRAPPIST-1e</td>\n",
       "      <td>Earth</td>\n",
       "      <td>Juanna Vines</td>\n",
       "      <td>False</td>\n",
       "    </tr>\n",
       "    <tr>\n",
       "      <th>2</th>\n",
       "      <td>A/0/S</td>\n",
       "      <td>False</td>\n",
       "      <td>TRAPPIST-1e</td>\n",
       "      <td>Europa</td>\n",
       "      <td>Altark Susent</td>\n",
       "      <td>True</td>\n",
       "    </tr>\n",
       "    <tr>\n",
       "      <th>3</th>\n",
       "      <td>A/0/S</td>\n",
       "      <td>False</td>\n",
       "      <td>TRAPPIST-1e</td>\n",
       "      <td>Europa</td>\n",
       "      <td>Solam Susent</td>\n",
       "      <td>False</td>\n",
       "    </tr>\n",
       "    <tr>\n",
       "      <th>4</th>\n",
       "      <td>F/1/S</td>\n",
       "      <td>False</td>\n",
       "      <td>TRAPPIST-1e</td>\n",
       "      <td>Earth</td>\n",
       "      <td>Willy Santantines</td>\n",
       "      <td>False</td>\n",
       "    </tr>\n",
       "    <tr>\n",
       "      <th>...</th>\n",
       "      <td>...</td>\n",
       "      <td>...</td>\n",
       "      <td>...</td>\n",
       "      <td>...</td>\n",
       "      <td>...</td>\n",
       "      <td>...</td>\n",
       "    </tr>\n",
       "    <tr>\n",
       "      <th>8688</th>\n",
       "      <td>A/98/P</td>\n",
       "      <td>False</td>\n",
       "      <td>55 Cancri e</td>\n",
       "      <td>Europa</td>\n",
       "      <td>Gravior Noxnuther</td>\n",
       "      <td>True</td>\n",
       "    </tr>\n",
       "    <tr>\n",
       "      <th>8689</th>\n",
       "      <td>G/1499/S</td>\n",
       "      <td>True</td>\n",
       "      <td>PSO J318.5-22</td>\n",
       "      <td>Earth</td>\n",
       "      <td>Kurta Mondalley</td>\n",
       "      <td>False</td>\n",
       "    </tr>\n",
       "    <tr>\n",
       "      <th>8690</th>\n",
       "      <td>G/1500/S</td>\n",
       "      <td>False</td>\n",
       "      <td>TRAPPIST-1e</td>\n",
       "      <td>Earth</td>\n",
       "      <td>Fayey Connon</td>\n",
       "      <td>False</td>\n",
       "    </tr>\n",
       "    <tr>\n",
       "      <th>8691</th>\n",
       "      <td>E/608/S</td>\n",
       "      <td>False</td>\n",
       "      <td>55 Cancri e</td>\n",
       "      <td>Europa</td>\n",
       "      <td>Celeon Hontichre</td>\n",
       "      <td>False</td>\n",
       "    </tr>\n",
       "    <tr>\n",
       "      <th>8692</th>\n",
       "      <td>E/608/S</td>\n",
       "      <td>False</td>\n",
       "      <td>TRAPPIST-1e</td>\n",
       "      <td>Europa</td>\n",
       "      <td>Propsh Hontichre</td>\n",
       "      <td>False</td>\n",
       "    </tr>\n",
       "  </tbody>\n",
       "</table>\n",
       "<p>8693 rows × 6 columns</p>\n",
       "</div>"
      ],
      "text/plain": [
       "         Cabin CryoSleep    Destination HomePlanet               Name    VIP\n",
       "0        B/0/P     False    TRAPPIST-1e     Europa    Maham Ofracculy  False\n",
       "1        F/0/S     False    TRAPPIST-1e      Earth       Juanna Vines  False\n",
       "2        A/0/S     False    TRAPPIST-1e     Europa      Altark Susent   True\n",
       "3        A/0/S     False    TRAPPIST-1e     Europa       Solam Susent  False\n",
       "4        F/1/S     False    TRAPPIST-1e      Earth  Willy Santantines  False\n",
       "...        ...       ...            ...        ...                ...    ...\n",
       "8688    A/98/P     False    55 Cancri e     Europa  Gravior Noxnuther   True\n",
       "8689  G/1499/S      True  PSO J318.5-22      Earth    Kurta Mondalley  False\n",
       "8690  G/1500/S     False    TRAPPIST-1e      Earth       Fayey Connon  False\n",
       "8691   E/608/S     False    55 Cancri e     Europa   Celeon Hontichre  False\n",
       "8692   E/608/S     False    TRAPPIST-1e     Europa   Propsh Hontichre  False\n",
       "\n",
       "[8693 rows x 6 columns]"
      ]
     },
     "execution_count": 11,
     "metadata": {},
     "output_type": "execute_result"
    }
   ],
   "source": [
    "train[categorical_cols]"
   ]
  },
  {
   "cell_type": "markdown",
   "id": "80b2b54f-5e20-47af-8197-6831640e73a9",
   "metadata": {},
   "source": [
    "## Cabin Handling"
   ]
  },
  {
   "attachments": {
    "0f6ee3dd-9f84-4832-b2d5-6eaccf851d71.png": {
     "image/png": "[encoded data removed]"
    }
   },
   "cell_type": "markdown",
   "id": "d5502eb2-9409-4b3e-a27b-352b707a6e00",
   "metadata": {},
   "source": [
    "![image.png](attachment:0f6ee3dd-9f84-4832-b2d5-6eaccf851d71.png)"
   ]
  },
  {
   "cell_type": "code",
   "execution_count": 27,
   "id": "50f45f35-f5da-4da9-b1ad-fa264c7273e7",
   "metadata": {},
   "outputs": [
    {
     "data": {
      "text/plain": [
       "'B/0/P'"
      ]
     },
     "execution_count": 27,
     "metadata": {},
     "output_type": "execute_result"
    }
   ],
   "source": [
    "train[\"Cabin\"].values[0]"
   ]
  },
  {
   "cell_type": "code",
   "execution_count": 32,
   "id": "9d303d22-5345-4a88-a67b-3506bdf9f7ba",
   "metadata": {},
   "outputs": [],
   "source": [
    "train[[\"Cabin_Deck\", \"Cabin_Num\", \"Cabin_Side\"]] = train[\"Cabin\"].str.split('/', expand=True)"
   ]
  },
  {
   "cell_type": "code",
   "execution_count": 38,
   "id": "c570f690-44a7-4ff0-99ad-705a6dc0250d",
   "metadata": {},
   "outputs": [
    {
     "data": {
      "text/plain": [
       "Cabin_Deck\n",
       "F    2794\n",
       "G    2559\n",
       "E     876\n",
       "B     779\n",
       "C     747\n",
       "D     478\n",
       "A     256\n",
       "T       5\n",
       "Name: count, dtype: int64"
      ]
     },
     "execution_count": 38,
     "metadata": {},
     "output_type": "execute_result"
    }
   ],
   "source": [
    "train[\"Cabin_Deck\"].value_counts()"
   ]
  },
  {
   "cell_type": "code",
   "execution_count": 57,
   "id": "238debba-c3dd-4af3-a230-bc212b022c91",
   "metadata": {},
   "outputs": [
    {
     "data": {
      "text/html": [
       "<div>\n",
       "<style scoped>\n",
       "    .dataframe tbody tr th:only-of-type {\n",
       "        vertical-align: middle;\n",
       "    }\n",
       "\n",
       "    .dataframe tbody tr th {\n",
       "        vertical-align: top;\n",
       "    }\n",
       "\n",
       "    .dataframe thead th {\n",
       "        text-align: right;\n",
       "    }\n",
       "</style>\n",
       "<table border=\"1\" class=\"dataframe\">\n",
       "  <thead>\n",
       "    <tr style=\"text-align: right;\">\n",
       "      <th></th>\n",
       "      <th>Cabin_Num</th>\n",
       "      <th>People_in_Cabin_Num</th>\n",
       "    </tr>\n",
       "  </thead>\n",
       "  <tbody>\n",
       "    <tr>\n",
       "      <th>0</th>\n",
       "      <td>0</td>\n",
       "      <td>18</td>\n",
       "    </tr>\n",
       "    <tr>\n",
       "      <th>1</th>\n",
       "      <td>1</td>\n",
       "      <td>15</td>\n",
       "    </tr>\n",
       "    <tr>\n",
       "      <th>2</th>\n",
       "      <td>10</td>\n",
       "      <td>12</td>\n",
       "    </tr>\n",
       "    <tr>\n",
       "      <th>3</th>\n",
       "      <td>100</td>\n",
       "      <td>12</td>\n",
       "    </tr>\n",
       "    <tr>\n",
       "      <th>4</th>\n",
       "      <td>1000</td>\n",
       "      <td>6</td>\n",
       "    </tr>\n",
       "    <tr>\n",
       "      <th>...</th>\n",
       "      <td>...</td>\n",
       "      <td>...</td>\n",
       "    </tr>\n",
       "    <tr>\n",
       "      <th>1812</th>\n",
       "      <td>995</td>\n",
       "      <td>3</td>\n",
       "    </tr>\n",
       "    <tr>\n",
       "      <th>1813</th>\n",
       "      <td>996</td>\n",
       "      <td>1</td>\n",
       "    </tr>\n",
       "    <tr>\n",
       "      <th>1814</th>\n",
       "      <td>997</td>\n",
       "      <td>2</td>\n",
       "    </tr>\n",
       "    <tr>\n",
       "      <th>1815</th>\n",
       "      <td>998</td>\n",
       "      <td>4</td>\n",
       "    </tr>\n",
       "    <tr>\n",
       "      <th>1816</th>\n",
       "      <td>999</td>\n",
       "      <td>6</td>\n",
       "    </tr>\n",
       "  </tbody>\n",
       "</table>\n",
       "<p>1817 rows × 2 columns</p>\n",
       "</div>"
      ],
      "text/plain": [
       "     Cabin_Num  People_in_Cabin_Num\n",
       "0            0                   18\n",
       "1            1                   15\n",
       "2           10                   12\n",
       "3          100                   12\n",
       "4         1000                    6\n",
       "...        ...                  ...\n",
       "1812       995                    3\n",
       "1813       996                    1\n",
       "1814       997                    2\n",
       "1815       998                    4\n",
       "1816       999                    6\n",
       "\n",
       "[1817 rows x 2 columns]"
      ]
     },
     "execution_count": 57,
     "metadata": {},
     "output_type": "execute_result"
    }
   ],
   "source": [
    "cabin_num_counts = (\n",
    "    train\n",
    "    .groupby(\"Cabin_Num\")\n",
    "    [[\"Cabin_Deck\"]]\n",
    "    .count()\n",
    "    .reset_index()\n",
    "    .rename(columns={\"Cabin_Deck\": \"People_in_Cabin_Num\"})\n",
    ")\n",
    "cabin_num_counts"
   ]
  },
  {
   "cell_type": "code",
   "execution_count": 60,
   "id": "ed3b7921-ec44-4dbd-a918-48f5b8f2c922",
   "metadata": {},
   "outputs": [
    {
     "data": {
      "text/html": [
       "<div>\n",
       "<style scoped>\n",
       "    .dataframe tbody tr th:only-of-type {\n",
       "        vertical-align: middle;\n",
       "    }\n",
       "\n",
       "    .dataframe tbody tr th {\n",
       "        vertical-align: top;\n",
       "    }\n",
       "\n",
       "    .dataframe thead th {\n",
       "        text-align: right;\n",
       "    }\n",
       "</style>\n",
       "<table border=\"1\" class=\"dataframe\">\n",
       "  <thead>\n",
       "    <tr style=\"text-align: right;\">\n",
       "      <th></th>\n",
       "      <th>Cabin_Deck</th>\n",
       "      <th>People_in_Cabin_Deck</th>\n",
       "    </tr>\n",
       "  </thead>\n",
       "  <tbody>\n",
       "    <tr>\n",
       "      <th>0</th>\n",
       "      <td>A</td>\n",
       "      <td>256</td>\n",
       "    </tr>\n",
       "    <tr>\n",
       "      <th>1</th>\n",
       "      <td>B</td>\n",
       "      <td>779</td>\n",
       "    </tr>\n",
       "    <tr>\n",
       "      <th>2</th>\n",
       "      <td>C</td>\n",
       "      <td>747</td>\n",
       "    </tr>\n",
       "    <tr>\n",
       "      <th>3</th>\n",
       "      <td>D</td>\n",
       "      <td>478</td>\n",
       "    </tr>\n",
       "    <tr>\n",
       "      <th>4</th>\n",
       "      <td>E</td>\n",
       "      <td>876</td>\n",
       "    </tr>\n",
       "    <tr>\n",
       "      <th>5</th>\n",
       "      <td>F</td>\n",
       "      <td>2794</td>\n",
       "    </tr>\n",
       "    <tr>\n",
       "      <th>6</th>\n",
       "      <td>G</td>\n",
       "      <td>2559</td>\n",
       "    </tr>\n",
       "    <tr>\n",
       "      <th>7</th>\n",
       "      <td>T</td>\n",
       "      <td>5</td>\n",
       "    </tr>\n",
       "  </tbody>\n",
       "</table>\n",
       "</div>"
      ],
      "text/plain": [
       "  Cabin_Deck  People_in_Cabin_Deck\n",
       "0          A                   256\n",
       "1          B                   779\n",
       "2          C                   747\n",
       "3          D                   478\n",
       "4          E                   876\n",
       "5          F                  2794\n",
       "6          G                  2559\n",
       "7          T                     5"
      ]
     },
     "execution_count": 60,
     "metadata": {},
     "output_type": "execute_result"
    }
   ],
   "source": [
    "cabin_deck_counts = (\n",
    "    train\n",
    "    .groupby(\"Cabin_Deck\")\n",
    "    [[\"Cabin_Num\"]]\n",
    "    .count()\n",
    "    .reset_index()\n",
    "    .rename(columns={\"Cabin_Num\": \"People_in_Cabin_Deck\"})\n",
    ")\n",
    "cabin_deck_counts"
   ]
  },
  {
   "cell_type": "markdown",
   "id": "268bc28d-a9e0-4f7d-8119-371857f77298",
   "metadata": {},
   "source": [
    "## Exploring Names"
   ]
  },
  {
   "cell_type": "code",
   "execution_count": 84,
   "id": "f2bfe520-4332-486f-b4ba-2ea7d6a17581",
   "metadata": {},
   "outputs": [
    {
     "data": {
      "text/html": [
       "<div>\n",
       "<style scoped>\n",
       "    .dataframe tbody tr th:only-of-type {\n",
       "        vertical-align: middle;\n",
       "    }\n",
       "\n",
       "    .dataframe tbody tr th {\n",
       "        vertical-align: top;\n",
       "    }\n",
       "\n",
       "    .dataframe thead th {\n",
       "        text-align: right;\n",
       "    }\n",
       "</style>\n",
       "<table border=\"1\" class=\"dataframe\">\n",
       "  <thead>\n",
       "    <tr style=\"text-align: right;\">\n",
       "      <th></th>\n",
       "      <th>Cabin</th>\n",
       "      <th>CryoSleep</th>\n",
       "      <th>Destination</th>\n",
       "      <th>HomePlanet</th>\n",
       "      <th>Name</th>\n",
       "      <th>VIP</th>\n",
       "    </tr>\n",
       "  </thead>\n",
       "  <tbody>\n",
       "    <tr>\n",
       "      <th>0</th>\n",
       "      <td>B/0/P</td>\n",
       "      <td>False</td>\n",
       "      <td>TRAPPIST-1e</td>\n",
       "      <td>Europa</td>\n",
       "      <td>Maham Ofracculy</td>\n",
       "      <td>False</td>\n",
       "    </tr>\n",
       "    <tr>\n",
       "      <th>1</th>\n",
       "      <td>F/0/S</td>\n",
       "      <td>False</td>\n",
       "      <td>TRAPPIST-1e</td>\n",
       "      <td>Earth</td>\n",
       "      <td>Juanna Vines</td>\n",
       "      <td>False</td>\n",
       "    </tr>\n",
       "    <tr>\n",
       "      <th>2</th>\n",
       "      <td>A/0/S</td>\n",
       "      <td>False</td>\n",
       "      <td>TRAPPIST-1e</td>\n",
       "      <td>Europa</td>\n",
       "      <td>Altark Susent</td>\n",
       "      <td>True</td>\n",
       "    </tr>\n",
       "    <tr>\n",
       "      <th>3</th>\n",
       "      <td>A/0/S</td>\n",
       "      <td>False</td>\n",
       "      <td>TRAPPIST-1e</td>\n",
       "      <td>Europa</td>\n",
       "      <td>Solam Susent</td>\n",
       "      <td>False</td>\n",
       "    </tr>\n",
       "    <tr>\n",
       "      <th>4</th>\n",
       "      <td>F/1/S</td>\n",
       "      <td>False</td>\n",
       "      <td>TRAPPIST-1e</td>\n",
       "      <td>Earth</td>\n",
       "      <td>Willy Santantines</td>\n",
       "      <td>False</td>\n",
       "    </tr>\n",
       "  </tbody>\n",
       "</table>\n",
       "</div>"
      ],
      "text/plain": [
       "   Cabin CryoSleep  Destination HomePlanet               Name    VIP\n",
       "0  B/0/P     False  TRAPPIST-1e     Europa    Maham Ofracculy  False\n",
       "1  F/0/S     False  TRAPPIST-1e      Earth       Juanna Vines  False\n",
       "2  A/0/S     False  TRAPPIST-1e     Europa      Altark Susent   True\n",
       "3  A/0/S     False  TRAPPIST-1e     Europa       Solam Susent  False\n",
       "4  F/1/S     False  TRAPPIST-1e      Earth  Willy Santantines  False"
      ]
     },
     "execution_count": 84,
     "metadata": {},
     "output_type": "execute_result"
    }
   ],
   "source": [
    "train[categorical_cols].head()"
   ]
  },
  {
   "cell_type": "code",
   "execution_count": 83,
   "id": "8cd220ea-0fda-4571-ab00-0be249cd31e6",
   "metadata": {},
   "outputs": [
    {
     "data": {
      "text/plain": [
       "2    8493\n",
       "Name: count, dtype: int64"
      ]
     },
     "execution_count": 83,
     "metadata": {},
     "output_type": "execute_result"
    }
   ],
   "source": [
    "pd.Series([np.array(l).shape[0] for l in train[\"Name\"].str.split(\" \").values if np.array(l).shape]).value_counts()"
   ]
  },
  {
   "cell_type": "markdown",
   "id": "134e2907-fdfd-4f1d-bcc8-7ee2e777a734",
   "metadata": {},
   "source": [
    "There is only 1 name and 1 nickname"
   ]
  },
  {
   "cell_type": "code",
   "execution_count": 85,
   "id": "2d185f19-35d0-4e66-a33e-ad11d082de8c",
   "metadata": {},
   "outputs": [],
   "source": [
    "train[\"Nickname\"] = train[\"Name\"].str.split(\" \").str[1]"
   ]
  },
  {
   "cell_type": "code",
   "execution_count": 88,
   "id": "f393f28d-9cc7-4a0a-8f90-d8b97dc0a5c1",
   "metadata": {},
   "outputs": [
    {
     "data": {
      "text/plain": [
       "Nickname\n",
       "Casonston     18\n",
       "Oneiles       16\n",
       "Domington     15\n",
       "Litthews      15\n",
       "Browlerson    14\n",
       "              ..\n",
       "Covale         1\n",
       "Dun            1\n",
       "Witalnerod     1\n",
       "Deryplinet     1\n",
       "Sionerorly     1\n",
       "Name: count, Length: 2217, dtype: int64"
      ]
     },
     "execution_count": 88,
     "metadata": {},
     "output_type": "execute_result"
    }
   ],
   "source": [
    "train[\"Nickname\"].value_counts()"
   ]
  },
  {
   "cell_type": "code",
   "execution_count": 89,
   "id": "847bf97e-c4e6-4fa2-8471-447f32809112",
   "metadata": {},
   "outputs": [
    {
     "data": {
      "text/html": [
       "<div>\n",
       "<style scoped>\n",
       "    .dataframe tbody tr th:only-of-type {\n",
       "        vertical-align: middle;\n",
       "    }\n",
       "\n",
       "    .dataframe tbody tr th {\n",
       "        vertical-align: top;\n",
       "    }\n",
       "\n",
       "    .dataframe thead th {\n",
       "        text-align: right;\n",
       "    }\n",
       "</style>\n",
       "<table border=\"1\" class=\"dataframe\">\n",
       "  <thead>\n",
       "    <tr style=\"text-align: right;\">\n",
       "      <th></th>\n",
       "      <th>Nickname</th>\n",
       "      <th>Family_Size</th>\n",
       "    </tr>\n",
       "  </thead>\n",
       "  <tbody>\n",
       "    <tr>\n",
       "      <th>0</th>\n",
       "      <td>Acobson</td>\n",
       "      <td>4</td>\n",
       "    </tr>\n",
       "    <tr>\n",
       "      <th>1</th>\n",
       "      <td>Acobsond</td>\n",
       "      <td>3</td>\n",
       "    </tr>\n",
       "    <tr>\n",
       "      <th>2</th>\n",
       "      <td>Adavisons</td>\n",
       "      <td>9</td>\n",
       "    </tr>\n",
       "    <tr>\n",
       "      <th>3</th>\n",
       "      <td>Adkinson</td>\n",
       "      <td>3</td>\n",
       "    </tr>\n",
       "    <tr>\n",
       "      <th>4</th>\n",
       "      <td>Admingried</td>\n",
       "      <td>4</td>\n",
       "    </tr>\n",
       "    <tr>\n",
       "      <th>...</th>\n",
       "      <td>...</td>\n",
       "      <td>...</td>\n",
       "    </tr>\n",
       "    <tr>\n",
       "      <th>2212</th>\n",
       "      <td>Wynneyerson</td>\n",
       "      <td>2</td>\n",
       "    </tr>\n",
       "    <tr>\n",
       "      <th>2213</th>\n",
       "      <td>Yanton</td>\n",
       "      <td>7</td>\n",
       "    </tr>\n",
       "    <tr>\n",
       "      <th>2214</th>\n",
       "      <td>Yatters</td>\n",
       "      <td>4</td>\n",
       "    </tr>\n",
       "    <tr>\n",
       "      <th>2215</th>\n",
       "      <td>Yorkland</td>\n",
       "      <td>11</td>\n",
       "    </tr>\n",
       "    <tr>\n",
       "      <th>2216</th>\n",
       "      <td>Youngrayes</td>\n",
       "      <td>3</td>\n",
       "    </tr>\n",
       "  </tbody>\n",
       "</table>\n",
       "<p>2217 rows × 2 columns</p>\n",
       "</div>"
      ],
      "text/plain": [
       "         Nickname  Family_Size\n",
       "0         Acobson            4\n",
       "1        Acobsond            3\n",
       "2       Adavisons            9\n",
       "3        Adkinson            3\n",
       "4      Admingried            4\n",
       "...           ...          ...\n",
       "2212  Wynneyerson            2\n",
       "2213       Yanton            7\n",
       "2214      Yatters            4\n",
       "2215     Yorkland           11\n",
       "2216   Youngrayes            3\n",
       "\n",
       "[2217 rows x 2 columns]"
      ]
     },
     "execution_count": 89,
     "metadata": {},
     "output_type": "execute_result"
    }
   ],
   "source": [
    "family_size = (\n",
    "    train\n",
    "    .groupby(\"Nickname\")\n",
    "    [[\"Name\"]]\n",
    "    .count()\n",
    "    .reset_index()\n",
    "    .rename(columns={\"Name\": \"Family_Size\"})\n",
    ")\n",
    "family_size"
   ]
  },
  {
   "cell_type": "code",
   "execution_count": null,
   "id": "5b3f14c0-5708-4b68-98c3-c2a4c508865c",
   "metadata": {},
   "outputs": [],
   "source": []
  }
 ],
 "metadata": {
  "kernelspec": {
   "display_name": "Kedro (spaceship_titanic)",
   "language": "python",
   "name": "kedro_spaceship_titanic"
  },
  "language_info": {
   "codemirror_mode": {
    "name": "ipython",
    "version": 3
   },
   "file_extension": ".py",
   "mimetype": "text/x-python",
   "name": "python",
   "nbconvert_exporter": "python",
   "pygments_lexer": "ipython3",
   "version": "3.8.17"
  }
 },
 "nbformat": 4,
 "nbformat_minor": 5
}
